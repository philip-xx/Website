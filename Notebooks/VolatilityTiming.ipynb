{
 "cells": [
  {
   "cell_type": "markdown",
   "metadata": {},
   "source": [
    "# Volatility-timing Strategy"
   ]
  },
  {
   "cell_type": "markdown",
   "metadata": {},
   "source": [
    "## Summary"
   ]
  },
  {
   "cell_type": "markdown",
   "metadata": {},
   "source": [
    "Mean-variance portfolio theory tells us that an investor chooses the tangency portfolio, i.e. portfolio of risky assets with the highest Sharpe ratio:\n",
    "\n",
    "$$\n",
    "SR \\equiv \\frac{\\mathbb{E}\\left[r\\right]-r_f}{\\sigma_{r-r_f}},\n",
    "$$\n",
    "\n",
    "and combine the tangency portfolo with the risk-free asset to form an optimal portfolio. The weight on the tangency portfolio is given by\n",
    "\n",
    "$$\n",
    "w = \\frac{SR}{RA \\times \\sigma_{r-r_f}},\n",
    "$$\n",
    "\n",
    "where RA is risk aversion.\n",
    "\n",
    "In the CAPM, all investors hold a mean-variance efficient portfolio and as supply has to equal demand, that is, $w = 1$. Consequently, it holds\n",
    "\n",
    "$$\n",
    "\\mathbb{E}\\left[r\\right]-r_f = RA \\times \\sigma_{r-r_f}.\n",
    "$$\n",
    "\n",
    "Hence, the risk premium depends on risk aversion and the market's volatility. In reality, if the risk premium does not move enough to compensate for variation in volatility, there is scope to improve the risk-return trade-off of our strategy by volatility timing."
   ]
  },
  {
   "cell_type": "markdown",
   "metadata": {},
   "source": [
    "<img src=\"../Figures/trial.png\" alt=\"Drawing\" style=\"width: 600px;\"/>"
   ]
  },
  {
   "cell_type": "markdown",
   "metadata": {},
   "source": [
    "## Reference"
   ]
  },
  {
   "cell_type": "markdown",
   "metadata": {},
   "source": [
    "[Moreira and Muir, Volatility-Managed Portfolios, Journal of Finance, 2017.](https://onlinelibrary.wiley.com/doi/full/10.1111/jofi.12513)"
   ]
  },
  {
   "cell_type": "markdown",
   "metadata": {},
   "source": [
    "## Quantopian Implementation"
   ]
  },
  {
   "cell_type": "markdown",
   "metadata": {},
   "source": [
    "### We follow the five steps in building an investment strategy:\n",
    "\n",
    "1. What is the economic idea we want to test?\n",
    "A: Can we generate alpha by reducing our allocation to the market when the market volatility is high.\n",
    "\n",
    "2. What is the universe of securities we want to trade?\n",
    "A: The market portfolio, which we approximate by an ETF on the S&P500 (ticker: SPY).\n",
    "\n",
    "3. What is the signal on which we want to trade?\n",
    "A: Recent volatility, say, over the last 20 trading days\n",
    "\n",
    "4. How do we construct our portfolio?\n",
    "A: Weight in the market at time t = 0.2 / Annualized volatility at time t.\n",
    "\n",
    "5. What is the benchmark? \n",
    "A: The ETF itself."
   ]
  },
  {
   "cell_type": "markdown",
   "metadata": {},
   "source": [
    "### Now we can build our strategies in Quantopian in four steps:"
   ]
  },
  {
   "cell_type": "markdown",
   "metadata": {},
   "source": [
    "Initialize the strategy:\n",
    "\n",
    "This part of the code will be computed once only."
   ]
  },
  {
   "cell_type": "code",
   "execution_count": null,
   "metadata": {},
   "outputs": [],
   "source": [
    "def initialize(context):\n",
    "    \n",
    "    context.SPY = symbol('SPY')\n",
    "    \n",
    "    schedule_function(rebalance, \n",
    "                      date_rules.month_start(),\n",
    "                      time_rules.market_open())\n",
    "    \n",
    "    schedule_function(record_vars, \n",
    "                     date_rules.every_day(),\n",
    "                     time_rules.market_close())"
   ]
  },
  {
   "cell_type": "markdown",
   "metadata": {},
   "source": [
    "Compute weights:\n",
    "\n",
    "This part of the code will be computed every time (for instance, every day, week or month) when we trade and computes the weights we want to hold."
   ]
  },
  {
   "cell_type": "code",
   "execution_count": null,
   "metadata": {},
   "outputs": [],
   "source": [
    "def compute_weights(context, data):\n",
    "    \n",
    "    prices = data.history(context.SPY, 'price', 20, '1d')\n",
    "    returns = prices.pct_change()\n",
    "    std_20 = returns.std()*np.sqrt(250)\n",
    "    \n",
    "    weight = min(0.2 / std_20, 1.5)\n",
    "    \n",
    "    return weight"
   ]
  },
  {
   "cell_type": "markdown",
   "metadata": {},
   "source": [
    "Rebalance:\n",
    "\n",
    "This part of the code will be computed every time we trade and executes the actual transactions."
   ]
  },
  {
   "cell_type": "code",
   "execution_count": null,
   "metadata": {},
   "outputs": [],
   "source": [
    "def rebalance(context, data):\n",
    "    \n",
    "    weight = compute_weights(context, data)\n",
    "    \n",
    "    if data.can_trade(context.SPY):\n",
    "        order_target_percent(context.SPY,weight)"
   ]
  },
  {
   "cell_type": "markdown",
   "metadata": {},
   "source": [
    "Record variables:\n",
    "\n",
    "Here we can record key properties of our strategy. How many long and short positions do we have? How much leverage do we have? We can also choose how often to record the variables, which may be different from how frequently we trade."
   ]
  },
  {
   "cell_type": "code",
   "execution_count": null,
   "metadata": {},
   "outputs": [],
   "source": [
    "def record_vars(context, data):\n",
    "    record(leverage = context.account.leverage, cash = context.portfolio.cash/context.portfolio.portfolio_value)"
   ]
  },
  {
   "cell_type": "markdown",
   "metadata": {},
   "source": [
    "### Here is the complete code:"
   ]
  },
  {
   "cell_type": "code",
   "execution_count": null,
   "metadata": {
    "collapsed": true
   },
   "outputs": [],
   "source": [
    "import numpy as np\n",
    "\n",
    "def initialize(context):\n",
    "    \n",
    "    context.SPY = symbol('SPY')\n",
    "    \n",
    "    schedule_function(rebalance, \n",
    "                      date_rules.month_start(),\n",
    "                      time_rules.market_open())\n",
    "    \n",
    "    schedule_function(record_vars, \n",
    "                     date_rules.every_day(),\n",
    "                     time_rules.market_close())\n",
    "    \n",
    "def record_vars(context, data):\n",
    "    record(leverage = context.account.leverage, cash = context.portfolio.cash/context.portfolio.portfolio_value)\n",
    "    \n",
    "def compute_weights(context, data):\n",
    "    prices = data.history(context.SPY, 'price', 20, '1d')\n",
    "    returns = prices.pct_change()\n",
    "    std_20 = returns.std()*np.sqrt(250)\n",
    "    \n",
    "    weight = min(0.2 / std_20, 1.5)\n",
    "    \n",
    "    return weight\n",
    "    \n",
    "def rebalance(context, data):\n",
    "    \n",
    "    weight = compute_weights(context, data)\n",
    "    \n",
    "    if data.can_trade(context.SPY):\n",
    "        order_target_percent(context.SPY,weight)"
   ]
  }
 ],
 "metadata": {
  "kernelspec": {
   "display_name": "Python 3",
   "language": "python",
   "name": "python3"
  },
  "language_info": {
   "codemirror_mode": {
    "name": "ipython",
    "version": 3
   },
   "file_extension": ".py",
   "mimetype": "text/x-python",
   "name": "python",
   "nbconvert_exporter": "python",
   "pygments_lexer": "ipython3",
   "version": "3.6.4"
  }
 },
 "nbformat": 4,
 "nbformat_minor": 2
}
